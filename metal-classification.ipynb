{
 "cells": [
  {
   "cell_type": "markdown",
   "id": "2243319c",
   "metadata": {},
   "source": [
    "<style>\n",
    ".text_cell_render {\n",
    "font-family: Times, serif;\n",
    "}\n",
    "</style>\n",
    "\n",
    "\n",
    "# Metal classification using ML\n",
    "\n",
    "The goal of this post is to explore to what extent simple ML algorithms can distinguish between metal music genres by looking exclusively at the lyrics.\n",
    "\n",
    "For the sake of simplicity, I have chosen to consider the classification problem between **death** and **black** metal.  I expect it to do ok, but would be very surprised if it were to attain more than an 80% accuracy score.  After all, the two extreme metal genres have considerable thematical and historical overlap.  \n",
    "\n",
    "Due to copyright concerns I have chosen not to make the lyrics dataset available."
   ]
  },
  {
   "cell_type": "code",
   "execution_count": 1,
   "id": "73d6fb2d",
   "metadata": {},
   "outputs": [],
   "source": [
    "import pandas as pd\n",
    "\n",
    "df = pd.read_csv('metal_data_final.csv', encoding='utf-8')"
   ]
  },
  {
   "cell_type": "markdown",
   "id": "db501360",
   "metadata": {},
   "source": [
    "## Dataframe characteristics\n",
    "\n",
    "Let's take a look at the dataframe.  The genre labels are 0 for death and 1 for black metal.  The lyrics have been preprocessed to be all lower case and all punctuation has been ignored."
   ]
  },
  {
   "cell_type": "code",
   "execution_count": 7,
   "id": "b6af3c1c",
   "metadata": {},
   "outputs": [
    {
     "data": {
      "text/html": [
       "<div>\n",
       "<style scoped>\n",
       "    .dataframe tbody tr th:only-of-type {\n",
       "        vertical-align: middle;\n",
       "    }\n",
       "\n",
       "    .dataframe tbody tr th {\n",
       "        vertical-align: top;\n",
       "    }\n",
       "\n",
       "    .dataframe thead th {\n",
       "        text-align: right;\n",
       "    }\n",
       "</style>\n",
       "<table border=\"1\" class=\"dataframe\">\n",
       "  <thead>\n",
       "    <tr style=\"text-align: right;\">\n",
       "      <th></th>\n",
       "      <th>lyrics</th>\n",
       "      <th>band</th>\n",
       "      <th>genre</th>\n",
       "    </tr>\n",
       "  </thead>\n",
       "  <tbody>\n",
       "    <tr>\n",
       "      <th>0</th>\n",
       "      <td>oh how my rampant desire ripped from the pres...</td>\n",
       "      <td>cradle of filth</td>\n",
       "      <td>1</td>\n",
       "    </tr>\n",
       "    <tr>\n",
       "      <th>1</th>\n",
       "      <td>martyrs of the cross bear the flames of hate t...</td>\n",
       "      <td>immolation</td>\n",
       "      <td>0</td>\n",
       "    </tr>\n",
       "    <tr>\n",
       "      <th>2</th>\n",
       "      <td>in the cold twilight i stand watching the rise...</td>\n",
       "      <td>dark funeral</td>\n",
       "      <td>1</td>\n",
       "    </tr>\n",
       "    <tr>\n",
       "      <th>3</th>\n",
       "      <td>even now where i adjoin the wick architeuthis ...</td>\n",
       "      <td>bethlehem</td>\n",
       "      <td>1</td>\n",
       "    </tr>\n",
       "    <tr>\n",
       "      <th>4</th>\n",
       "      <td>insatiable lust for a further deprivation an e...</td>\n",
       "      <td>dyscarnate</td>\n",
       "      <td>0</td>\n",
       "    </tr>\n",
       "    <tr>\n",
       "      <th>5</th>\n",
       "      <td>here in the garden we know not what we do made...</td>\n",
       "      <td>cattle decapitation</td>\n",
       "      <td>0</td>\n",
       "    </tr>\n",
       "    <tr>\n",
       "      <th>6</th>\n",
       "      <td>lechery on the altar we burn in blaspemy orgas...</td>\n",
       "      <td>belphegor</td>\n",
       "      <td>1</td>\n",
       "    </tr>\n",
       "    <tr>\n",
       "      <th>7</th>\n",
       "      <td>i dream of leaving this body through a leak in...</td>\n",
       "      <td>pig destroyer</td>\n",
       "      <td>0</td>\n",
       "    </tr>\n",
       "    <tr>\n",
       "      <th>8</th>\n",
       "      <td>all they hold sacred all they consecrated corr...</td>\n",
       "      <td>belphegor</td>\n",
       "      <td>1</td>\n",
       "    </tr>\n",
       "    <tr>\n",
       "      <th>9</th>\n",
       "      <td>wasted ashore by a stormfull flood left behind...</td>\n",
       "      <td>vreid</td>\n",
       "      <td>1</td>\n",
       "    </tr>\n",
       "  </tbody>\n",
       "</table>\n",
       "</div>"
      ],
      "text/plain": [
       "                                              lyrics                 band  \\\n",
       "0   oh how my rampant desire ripped from the pres...      cradle of filth   \n",
       "1  martyrs of the cross bear the flames of hate t...           immolation   \n",
       "2  in the cold twilight i stand watching the rise...         dark funeral   \n",
       "3  even now where i adjoin the wick architeuthis ...            bethlehem   \n",
       "4  insatiable lust for a further deprivation an e...           dyscarnate   \n",
       "5  here in the garden we know not what we do made...  cattle decapitation   \n",
       "6  lechery on the altar we burn in blaspemy orgas...            belphegor   \n",
       "7  i dream of leaving this body through a leak in...        pig destroyer   \n",
       "8  all they hold sacred all they consecrated corr...            belphegor   \n",
       "9  wasted ashore by a stormfull flood left behind...                vreid   \n",
       "\n",
       "   genre  \n",
       "0      1  \n",
       "1      0  \n",
       "2      1  \n",
       "3      1  \n",
       "4      0  \n",
       "5      0  \n",
       "6      1  \n",
       "7      0  \n",
       "8      1  \n",
       "9      1  "
      ]
     },
     "execution_count": 7,
     "metadata": {},
     "output_type": "execute_result"
    }
   ],
   "source": [
    "df.head(10)"
   ]
  },
  {
   "cell_type": "code",
   "execution_count": 9,
   "id": "89990678",
   "metadata": {},
   "outputs": [
    {
     "name": "stdout",
     "output_type": "stream",
     "text": [
      "Total number of songs: 8991\n",
      "Total number of black metal songs 4367\n",
      "Total number of death metal songs 4624\n",
      "Total number of black metal bands 89\n",
      "Total number of death metal bands 57\n"
     ]
    }
   ],
   "source": [
    "number_death_songs = song_number_death = df[df['genre'] == 0].shape[0]\n",
    "number_black_songs = song_number_death = df[df['genre'] == 1].shape[0]\n",
    "\n",
    "number_death_bands = df[df['genre'] == 0]['band'].value_counts().shape[0]\n",
    "number_black_bands = df[df['genre'] == 1]['band'].value_counts().shape[0]\n",
    "\n",
    "print('Total number of songs:', len(df))\n",
    "print('Total number of black metal songs', number_black_songs)\n",
    "print('Total number of death metal songs', number_death_songs)\n",
    "print('Total number of black metal bands', number_black_bands)\n",
    "print('Total number of death metal bands', number_death_bands)"
   ]
  },
  {
   "cell_type": "markdown",
   "id": "c0f46a5b",
   "metadata": {},
   "source": [
    "## Metal topics\n",
    "\n",
    "Let's first use LDA to see if death and black metal songs can be reasonably grouped topicwise."
   ]
  },
  {
   "cell_type": "code",
   "execution_count": null,
   "id": "9c3aee68",
   "metadata": {},
   "outputs": [],
   "source": []
  }
 ],
 "metadata": {
  "kernelspec": {
   "display_name": "Python 3 (ipykernel)",
   "language": "python",
   "name": "python3"
  },
  "language_info": {
   "codemirror_mode": {
    "name": "ipython",
    "version": 3
   },
   "file_extension": ".py",
   "mimetype": "text/x-python",
   "name": "python",
   "nbconvert_exporter": "python",
   "pygments_lexer": "ipython3",
   "version": "3.9.5"
  }
 },
 "nbformat": 4,
 "nbformat_minor": 5
}
